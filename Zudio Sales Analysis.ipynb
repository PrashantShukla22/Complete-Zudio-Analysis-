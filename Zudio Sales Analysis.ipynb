{
 "cells": [
  {
   "cell_type": "code",
   "execution_count": 182,
   "id": "ee614ce9-10c1-494c-baf8-84f7b8d14d3b",
   "metadata": {},
   "outputs": [],
   "source": [
    "# Importing the libraries\n",
    "import pandas as pd\n",
    "import numpy as np "
   ]
  },
  {
   "cell_type": "code",
   "execution_count": 183,
   "id": "eb4c6e80-4c97-4b86-ad91-e242f771dfb7",
   "metadata": {},
   "outputs": [],
   "source": [
    "# Importing the PyMySQL library to interact with MySQL databases in Python\n",
    "import pymysql"
   ]
  },
  {
   "cell_type": "code",
   "execution_count": 184,
   "id": "f8b989af-13ea-4b98-a413-54a24c3e4132",
   "metadata": {},
   "outputs": [],
   "source": [
    "# Connecting to the MySQL database\n",
    "conn = pymysql.connect(\n",
    "    host = \"localhost\",\n",
    "    user = \"root\",\n",
    "    password = \"root\",\n",
    "    database = \"zudio\"\n",
    ")"
   ]
  },
  {
   "cell_type": "code",
   "execution_count": 185,
   "id": "cee949a3-6420-4ff4-83c6-18e5a80f0565",
   "metadata": {},
   "outputs": [],
   "source": [
    "# Creating a cursor object to execute SQL queries and fetch results from the database\n",
    "cursor = conn.cursor()"
   ]
  },
  {
   "cell_type": "code",
   "execution_count": 186,
   "id": "8d209918-7a27-47d1-a57b-6ed1fb9e9b04",
   "metadata": {},
   "outputs": [],
   "source": [
    "# SQL query to retrieve all records from the 'zudio_sales_data' table\n",
    "query = 'select * from zudio_sales_data'"
   ]
  },
  {
   "cell_type": "code",
   "execution_count": 187,
   "id": "5fcd1b85-ae0c-4463-866c-34949ac53a89",
   "metadata": {},
   "outputs": [
    {
     "name": "stderr",
     "output_type": "stream",
     "text": [
      "C:\\Users\\PRASHANT\\AppData\\Local\\Temp\\ipykernel_26568\\1775826969.py:2: UserWarning: pandas only supports SQLAlchemy connectable (engine/connection) or database string URI or sqlite3 DBAPI2 connection. Other DBAPI2 objects are not tested. Please consider using SQLAlchemy.\n",
      "  data = pd.read_sql(query, conn)\n"
     ]
    },
    {
     "data": {
      "text/html": [
       "<div>\n",
       "<style scoped>\n",
       "    .dataframe tbody tr th:only-of-type {\n",
       "        vertical-align: middle;\n",
       "    }\n",
       "\n",
       "    .dataframe tbody tr th {\n",
       "        vertical-align: top;\n",
       "    }\n",
       "\n",
       "    .dataframe thead th {\n",
       "        text-align: right;\n",
       "    }\n",
       "</style>\n",
       "<table border=\"1\" class=\"dataframe\">\n",
       "  <thead>\n",
       "    <tr style=\"text-align: right;\">\n",
       "      <th></th>\n",
       "      <th>Store</th>\n",
       "      <th>Country</th>\n",
       "      <th>State</th>\n",
       "      <th>City</th>\n",
       "      <th>Category</th>\n",
       "      <th>Clothing Type</th>\n",
       "      <th>Store Number</th>\n",
       "      <th>Postal Code</th>\n",
       "      <th>Store Type</th>\n",
       "      <th>Store Open Date</th>\n",
       "      <th>...</th>\n",
       "      <th>Security Features</th>\n",
       "      <th>Order ID</th>\n",
       "      <th>Order Date</th>\n",
       "      <th>Month</th>\n",
       "      <th>Customer ID</th>\n",
       "      <th>Customer Name</th>\n",
       "      <th>Product ID</th>\n",
       "      <th>Price</th>\n",
       "      <th>Quantity</th>\n",
       "      <th>Sales Profit</th>\n",
       "    </tr>\n",
       "  </thead>\n",
       "  <tbody>\n",
       "    <tr>\n",
       "      <th>0</th>\n",
       "      <td>Zudio</td>\n",
       "      <td>India</td>\n",
       "      <td>Karnataka</td>\n",
       "      <td>Jalna</td>\n",
       "      <td>Women</td>\n",
       "      <td>Dresses</td>\n",
       "      <td>30</td>\n",
       "      <td>411084</td>\n",
       "      <td>Owned</td>\n",
       "      <td>2022-06-04</td>\n",
       "      <td>...</td>\n",
       "      <td>Alarm</td>\n",
       "      <td>88240</td>\n",
       "      <td>2024-11-06</td>\n",
       "      <td>November</td>\n",
       "      <td>233084</td>\n",
       "      <td>Michele Ochoa</td>\n",
       "      <td>354</td>\n",
       "      <td>1958</td>\n",
       "      <td>5</td>\n",
       "      <td>3916.0</td>\n",
       "    </tr>\n",
       "    <tr>\n",
       "      <th>1</th>\n",
       "      <td>Zudio</td>\n",
       "      <td>India</td>\n",
       "      <td>Gujarat</td>\n",
       "      <td>Patna</td>\n",
       "      <td>Kids</td>\n",
       "      <td>Skirts</td>\n",
       "      <td>48</td>\n",
       "      <td>404562</td>\n",
       "      <td>Owned</td>\n",
       "      <td>2020-12-19</td>\n",
       "      <td>...</td>\n",
       "      <td>Alarm</td>\n",
       "      <td>78145</td>\n",
       "      <td>2024-06-17</td>\n",
       "      <td>June</td>\n",
       "      <td>926472</td>\n",
       "      <td>Daniel Jimenez</td>\n",
       "      <td>741</td>\n",
       "      <td>2078</td>\n",
       "      <td>1</td>\n",
       "      <td>831.2</td>\n",
       "    </tr>\n",
       "    <tr>\n",
       "      <th>2</th>\n",
       "      <td>Zudio</td>\n",
       "      <td>India</td>\n",
       "      <td>Uttar Pradesh</td>\n",
       "      <td>Kolkata</td>\n",
       "      <td>Men</td>\n",
       "      <td>Hoodies</td>\n",
       "      <td>97</td>\n",
       "      <td>437773</td>\n",
       "      <td>Rented</td>\n",
       "      <td>2023-09-04</td>\n",
       "      <td>...</td>\n",
       "      <td>CCTV</td>\n",
       "      <td>33363</td>\n",
       "      <td>2024-08-17</td>\n",
       "      <td>August</td>\n",
       "      <td>853255</td>\n",
       "      <td>Steven Davis</td>\n",
       "      <td>607</td>\n",
       "      <td>1445</td>\n",
       "      <td>2</td>\n",
       "      <td>1156.0</td>\n",
       "    </tr>\n",
       "    <tr>\n",
       "      <th>3</th>\n",
       "      <td>Zudio</td>\n",
       "      <td>India</td>\n",
       "      <td>West Bengal</td>\n",
       "      <td>Kolkata</td>\n",
       "      <td>Women</td>\n",
       "      <td>Dresses</td>\n",
       "      <td>93</td>\n",
       "      <td>431725</td>\n",
       "      <td>Owned</td>\n",
       "      <td>2024-04-11</td>\n",
       "      <td>...</td>\n",
       "      <td>CCTV</td>\n",
       "      <td>46682</td>\n",
       "      <td>2024-03-27</td>\n",
       "      <td>March</td>\n",
       "      <td>106146</td>\n",
       "      <td>Derek Orozco</td>\n",
       "      <td>991</td>\n",
       "      <td>2469</td>\n",
       "      <td>6</td>\n",
       "      <td>5925.6</td>\n",
       "    </tr>\n",
       "    <tr>\n",
       "      <th>4</th>\n",
       "      <td>Zudio</td>\n",
       "      <td>India</td>\n",
       "      <td>West Bengal</td>\n",
       "      <td>Guwahati</td>\n",
       "      <td>Men</td>\n",
       "      <td>Dresses</td>\n",
       "      <td>51</td>\n",
       "      <td>415370</td>\n",
       "      <td>Owned</td>\n",
       "      <td>2022-05-29</td>\n",
       "      <td>...</td>\n",
       "      <td>CCTV, Alarm</td>\n",
       "      <td>58242</td>\n",
       "      <td>2024-04-08</td>\n",
       "      <td>April</td>\n",
       "      <td>264070</td>\n",
       "      <td>Victor Arnold</td>\n",
       "      <td>479</td>\n",
       "      <td>1105</td>\n",
       "      <td>6</td>\n",
       "      <td>2652.0</td>\n",
       "    </tr>\n",
       "    <tr>\n",
       "      <th>...</th>\n",
       "      <td>...</td>\n",
       "      <td>...</td>\n",
       "      <td>...</td>\n",
       "      <td>...</td>\n",
       "      <td>...</td>\n",
       "      <td>...</td>\n",
       "      <td>...</td>\n",
       "      <td>...</td>\n",
       "      <td>...</td>\n",
       "      <td>...</td>\n",
       "      <td>...</td>\n",
       "      <td>...</td>\n",
       "      <td>...</td>\n",
       "      <td>...</td>\n",
       "      <td>...</td>\n",
       "      <td>...</td>\n",
       "      <td>...</td>\n",
       "      <td>...</td>\n",
       "      <td>...</td>\n",
       "      <td>...</td>\n",
       "      <td>...</td>\n",
       "    </tr>\n",
       "    <tr>\n",
       "      <th>14682</th>\n",
       "      <td>Zudio</td>\n",
       "      <td>India</td>\n",
       "      <td>Uttar Pradesh</td>\n",
       "      <td>Chandigarh</td>\n",
       "      <td>Kids</td>\n",
       "      <td>Jeans</td>\n",
       "      <td>32</td>\n",
       "      <td>431437</td>\n",
       "      <td>Owned</td>\n",
       "      <td>2024-04-24</td>\n",
       "      <td>...</td>\n",
       "      <td>CCTV, Alarm</td>\n",
       "      <td>39056</td>\n",
       "      <td>2024-09-27</td>\n",
       "      <td>September</td>\n",
       "      <td>591993</td>\n",
       "      <td>Tracey Andrews</td>\n",
       "      <td>262</td>\n",
       "      <td>2838</td>\n",
       "      <td>1</td>\n",
       "      <td>1135.2</td>\n",
       "    </tr>\n",
       "    <tr>\n",
       "      <th>14683</th>\n",
       "      <td>Zudio</td>\n",
       "      <td>India</td>\n",
       "      <td>Uttar Pradesh</td>\n",
       "      <td>Aurangabad</td>\n",
       "      <td>Kids</td>\n",
       "      <td>Jackets</td>\n",
       "      <td>52</td>\n",
       "      <td>424643</td>\n",
       "      <td>Owned</td>\n",
       "      <td>2024-02-03</td>\n",
       "      <td>...</td>\n",
       "      <td>Alarm</td>\n",
       "      <td>85486</td>\n",
       "      <td>2024-03-16</td>\n",
       "      <td>March</td>\n",
       "      <td>822244</td>\n",
       "      <td>Linda Wallace</td>\n",
       "      <td>537</td>\n",
       "      <td>1814</td>\n",
       "      <td>2</td>\n",
       "      <td>1451.2</td>\n",
       "    </tr>\n",
       "    <tr>\n",
       "      <th>14684</th>\n",
       "      <td>Zudio</td>\n",
       "      <td>India</td>\n",
       "      <td>Tamil Nadu</td>\n",
       "      <td>Pune</td>\n",
       "      <td>Kids</td>\n",
       "      <td>T-shirts</td>\n",
       "      <td>81</td>\n",
       "      <td>412057</td>\n",
       "      <td>Owned</td>\n",
       "      <td>2021-04-11</td>\n",
       "      <td>...</td>\n",
       "      <td>CCTV, Alarm</td>\n",
       "      <td>78200</td>\n",
       "      <td>2024-12-02</td>\n",
       "      <td>December</td>\n",
       "      <td>268376</td>\n",
       "      <td>Brandon Baker</td>\n",
       "      <td>457</td>\n",
       "      <td>1961</td>\n",
       "      <td>1</td>\n",
       "      <td>784.4</td>\n",
       "    </tr>\n",
       "    <tr>\n",
       "      <th>14685</th>\n",
       "      <td>Zudio</td>\n",
       "      <td>India</td>\n",
       "      <td>Delhi</td>\n",
       "      <td>Madurai</td>\n",
       "      <td>Men</td>\n",
       "      <td>Shoes</td>\n",
       "      <td>58</td>\n",
       "      <td>405203</td>\n",
       "      <td>Rented</td>\n",
       "      <td>2022-06-17</td>\n",
       "      <td>...</td>\n",
       "      <td>CCTV</td>\n",
       "      <td>19883</td>\n",
       "      <td>2024-07-29</td>\n",
       "      <td>July</td>\n",
       "      <td>766283</td>\n",
       "      <td>John Lewis</td>\n",
       "      <td>608</td>\n",
       "      <td>1017</td>\n",
       "      <td>8</td>\n",
       "      <td>3254.4</td>\n",
       "    </tr>\n",
       "    <tr>\n",
       "      <th>14686</th>\n",
       "      <td>Zudio</td>\n",
       "      <td>India</td>\n",
       "      <td>Gujarat</td>\n",
       "      <td>Bengaluru</td>\n",
       "      <td>Women</td>\n",
       "      <td>Shirts</td>\n",
       "      <td>20</td>\n",
       "      <td>429823</td>\n",
       "      <td>Owned</td>\n",
       "      <td>2023-02-08</td>\n",
       "      <td>...</td>\n",
       "      <td>CCTV, Alarm</td>\n",
       "      <td>91451</td>\n",
       "      <td>2024-04-08</td>\n",
       "      <td>April</td>\n",
       "      <td>541226</td>\n",
       "      <td>Nicholas Salazar</td>\n",
       "      <td>583</td>\n",
       "      <td>2773</td>\n",
       "      <td>5</td>\n",
       "      <td>5546.0</td>\n",
       "    </tr>\n",
       "  </tbody>\n",
       "</table>\n",
       "<p>14687 rows × 28 columns</p>\n",
       "</div>"
      ],
      "text/plain": [
       "       Store Country          State        City Category Clothing Type  \\\n",
       "0      Zudio   India      Karnataka       Jalna    Women       Dresses   \n",
       "1      Zudio   India        Gujarat       Patna     Kids        Skirts   \n",
       "2      Zudio   India  Uttar Pradesh     Kolkata      Men       Hoodies   \n",
       "3      Zudio   India    West Bengal     Kolkata    Women       Dresses   \n",
       "4      Zudio   India    West Bengal    Guwahati      Men       Dresses   \n",
       "...      ...     ...            ...         ...      ...           ...   \n",
       "14682  Zudio   India  Uttar Pradesh  Chandigarh     Kids         Jeans   \n",
       "14683  Zudio   India  Uttar Pradesh  Aurangabad     Kids       Jackets   \n",
       "14684  Zudio   India     Tamil Nadu        Pune     Kids      T-shirts   \n",
       "14685  Zudio   India          Delhi     Madurai      Men         Shoes   \n",
       "14686  Zudio   India        Gujarat   Bengaluru    Women        Shirts   \n",
       "\n",
       "       Store Number  Postal Code Store Type Store Open Date  ...  \\\n",
       "0                30       411084      Owned      2022-06-04  ...   \n",
       "1                48       404562      Owned      2020-12-19  ...   \n",
       "2                97       437773     Rented      2023-09-04  ...   \n",
       "3                93       431725      Owned      2024-04-11  ...   \n",
       "4                51       415370      Owned      2022-05-29  ...   \n",
       "...             ...          ...        ...             ...  ...   \n",
       "14682            32       431437      Owned      2024-04-24  ...   \n",
       "14683            52       424643      Owned      2024-02-03  ...   \n",
       "14684            81       412057      Owned      2021-04-11  ...   \n",
       "14685            58       405203     Rented      2022-06-17  ...   \n",
       "14686            20       429823      Owned      2023-02-08  ...   \n",
       "\n",
       "       Security Features Order ID  Order Date      Month Customer ID  \\\n",
       "0                  Alarm    88240  2024-11-06   November      233084   \n",
       "1                  Alarm    78145  2024-06-17       June      926472   \n",
       "2                   CCTV    33363  2024-08-17     August      853255   \n",
       "3                   CCTV    46682  2024-03-27      March      106146   \n",
       "4            CCTV, Alarm    58242  2024-04-08      April      264070   \n",
       "...                  ...      ...         ...        ...         ...   \n",
       "14682        CCTV, Alarm    39056  2024-09-27  September      591993   \n",
       "14683              Alarm    85486  2024-03-16      March      822244   \n",
       "14684        CCTV, Alarm    78200  2024-12-02   December      268376   \n",
       "14685               CCTV    19883  2024-07-29       July      766283   \n",
       "14686        CCTV, Alarm    91451  2024-04-08      April      541226   \n",
       "\n",
       "          Customer Name  Product ID Price Quantity  Sales Profit  \n",
       "0         Michele Ochoa         354  1958        5        3916.0  \n",
       "1        Daniel Jimenez         741  2078        1         831.2  \n",
       "2          Steven Davis         607  1445        2        1156.0  \n",
       "3          Derek Orozco         991  2469        6        5925.6  \n",
       "4         Victor Arnold         479  1105        6        2652.0  \n",
       "...                 ...         ...   ...      ...           ...  \n",
       "14682    Tracey Andrews         262  2838        1        1135.2  \n",
       "14683     Linda Wallace         537  1814        2        1451.2  \n",
       "14684     Brandon Baker         457  1961        1         784.4  \n",
       "14685        John Lewis         608  1017        8        3254.4  \n",
       "14686  Nicholas Salazar         583  2773        5        5546.0  \n",
       "\n",
       "[14687 rows x 28 columns]"
      ]
     },
     "execution_count": 187,
     "metadata": {},
     "output_type": "execute_result"
    }
   ],
   "source": [
    "# Executing the SQL query and loading the data into a pandas DataFrame\n",
    "data = pd.read_sql(query, conn)\n",
    "\n",
    "# DataFrame content\n",
    "data"
   ]
  },
  {
   "cell_type": "code",
   "execution_count": 188,
   "id": "aedbccd5-0685-463e-8619-c893f344eb71",
   "metadata": {},
   "outputs": [
    {
     "data": {
      "text/html": [
       "<div>\n",
       "<style scoped>\n",
       "    .dataframe tbody tr th:only-of-type {\n",
       "        vertical-align: middle;\n",
       "    }\n",
       "\n",
       "    .dataframe tbody tr th {\n",
       "        vertical-align: top;\n",
       "    }\n",
       "\n",
       "    .dataframe thead th {\n",
       "        text-align: right;\n",
       "    }\n",
       "</style>\n",
       "<table border=\"1\" class=\"dataframe\">\n",
       "  <thead>\n",
       "    <tr style=\"text-align: right;\">\n",
       "      <th></th>\n",
       "      <th>Store Number</th>\n",
       "      <th>Postal Code</th>\n",
       "      <th>Selling Area Size (sq ft)</th>\n",
       "      <th>Staff Count</th>\n",
       "      <th>Order ID</th>\n",
       "      <th>Customer ID</th>\n",
       "      <th>Product ID</th>\n",
       "      <th>Price</th>\n",
       "      <th>Quantity</th>\n",
       "      <th>Sales Profit</th>\n",
       "    </tr>\n",
       "  </thead>\n",
       "  <tbody>\n",
       "    <tr>\n",
       "      <th>count</th>\n",
       "      <td>14687.000000</td>\n",
       "      <td>14687.000000</td>\n",
       "      <td>14687.000000</td>\n",
       "      <td>14687.000000</td>\n",
       "      <td>14687.000000</td>\n",
       "      <td>14687.000000</td>\n",
       "      <td>14687.000000</td>\n",
       "      <td>14687.000000</td>\n",
       "      <td>14687.000000</td>\n",
       "      <td>14687.000000</td>\n",
       "    </tr>\n",
       "    <tr>\n",
       "      <th>mean</th>\n",
       "      <td>50.645945</td>\n",
       "      <td>420035.660516</td>\n",
       "      <td>1112.010622</td>\n",
       "      <td>11.487778</td>\n",
       "      <td>54980.511541</td>\n",
       "      <td>549780.291142</td>\n",
       "      <td>602.234221</td>\n",
       "      <td>1759.069245</td>\n",
       "      <td>4.523388</td>\n",
       "      <td>3169.150106</td>\n",
       "    </tr>\n",
       "    <tr>\n",
       "      <th>std</th>\n",
       "      <td>29.082515</td>\n",
       "      <td>11694.154148</td>\n",
       "      <td>193.398705</td>\n",
       "      <td>5.191102</td>\n",
       "      <td>25925.211247</td>\n",
       "      <td>262297.413771</td>\n",
       "      <td>232.236700</td>\n",
       "      <td>715.688512</td>\n",
       "      <td>2.292984</td>\n",
       "      <td>2138.437928</td>\n",
       "    </tr>\n",
       "    <tr>\n",
       "      <th>min</th>\n",
       "      <td>1.000000</td>\n",
       "      <td>400006.000000</td>\n",
       "      <td>800.000000</td>\n",
       "      <td>3.000000</td>\n",
       "      <td>10008.000000</td>\n",
       "      <td>100153.000000</td>\n",
       "      <td>204.000000</td>\n",
       "      <td>499.000000</td>\n",
       "      <td>1.000000</td>\n",
       "      <td>200.400000</td>\n",
       "    </tr>\n",
       "    <tr>\n",
       "      <th>25%</th>\n",
       "      <td>25.000000</td>\n",
       "      <td>409892.000000</td>\n",
       "      <td>950.000000</td>\n",
       "      <td>7.000000</td>\n",
       "      <td>33181.000000</td>\n",
       "      <td>318885.000000</td>\n",
       "      <td>399.000000</td>\n",
       "      <td>1136.000000</td>\n",
       "      <td>3.000000</td>\n",
       "      <td>1410.000000</td>\n",
       "    </tr>\n",
       "    <tr>\n",
       "      <th>50%</th>\n",
       "      <td>51.000000</td>\n",
       "      <td>420083.000000</td>\n",
       "      <td>1100.000000</td>\n",
       "      <td>12.000000</td>\n",
       "      <td>55009.000000</td>\n",
       "      <td>546415.000000</td>\n",
       "      <td>601.000000</td>\n",
       "      <td>1778.000000</td>\n",
       "      <td>5.000000</td>\n",
       "      <td>2681.600000</td>\n",
       "    </tr>\n",
       "    <tr>\n",
       "      <th>75%</th>\n",
       "      <td>76.000000</td>\n",
       "      <td>430319.500000</td>\n",
       "      <td>1300.000000</td>\n",
       "      <td>16.000000</td>\n",
       "      <td>77386.500000</td>\n",
       "      <td>780141.000000</td>\n",
       "      <td>804.000000</td>\n",
       "      <td>2372.000000</td>\n",
       "      <td>7.000000</td>\n",
       "      <td>4572.400000</td>\n",
       "    </tr>\n",
       "    <tr>\n",
       "      <th>max</th>\n",
       "      <td>100.000000</td>\n",
       "      <td>439985.000000</td>\n",
       "      <td>1400.000000</td>\n",
       "      <td>20.000000</td>\n",
       "      <td>99999.000000</td>\n",
       "      <td>999858.000000</td>\n",
       "      <td>999.000000</td>\n",
       "      <td>2999.000000</td>\n",
       "      <td>8.000000</td>\n",
       "      <td>9596.800000</td>\n",
       "    </tr>\n",
       "  </tbody>\n",
       "</table>\n",
       "</div>"
      ],
      "text/plain": [
       "       Store Number    Postal Code  Selling Area Size (sq ft)   Staff Count  \\\n",
       "count  14687.000000   14687.000000               14687.000000  14687.000000   \n",
       "mean      50.645945  420035.660516                1112.010622     11.487778   \n",
       "std       29.082515   11694.154148                 193.398705      5.191102   \n",
       "min        1.000000  400006.000000                 800.000000      3.000000   \n",
       "25%       25.000000  409892.000000                 950.000000      7.000000   \n",
       "50%       51.000000  420083.000000                1100.000000     12.000000   \n",
       "75%       76.000000  430319.500000                1300.000000     16.000000   \n",
       "max      100.000000  439985.000000                1400.000000     20.000000   \n",
       "\n",
       "           Order ID    Customer ID    Product ID         Price      Quantity  \\\n",
       "count  14687.000000   14687.000000  14687.000000  14687.000000  14687.000000   \n",
       "mean   54980.511541  549780.291142    602.234221   1759.069245      4.523388   \n",
       "std    25925.211247  262297.413771    232.236700    715.688512      2.292984   \n",
       "min    10008.000000  100153.000000    204.000000    499.000000      1.000000   \n",
       "25%    33181.000000  318885.000000    399.000000   1136.000000      3.000000   \n",
       "50%    55009.000000  546415.000000    601.000000   1778.000000      5.000000   \n",
       "75%    77386.500000  780141.000000    804.000000   2372.000000      7.000000   \n",
       "max    99999.000000  999858.000000    999.000000   2999.000000      8.000000   \n",
       "\n",
       "       Sales Profit  \n",
       "count  14687.000000  \n",
       "mean    3169.150106  \n",
       "std     2138.437928  \n",
       "min      200.400000  \n",
       "25%     1410.000000  \n",
       "50%     2681.600000  \n",
       "75%     4572.400000  \n",
       "max     9596.800000  "
      ]
     },
     "execution_count": 188,
     "metadata": {},
     "output_type": "execute_result"
    }
   ],
   "source": [
    "# Summary statistics (count, mean, std, min, max, etc.) for numeric columns in the DataFrame\n",
    "data.describe()"
   ]
  },
  {
   "cell_type": "code",
   "execution_count": 189,
   "id": "c8ce4bee-6f94-48fa-bb88-3f0f4bb7227f",
   "metadata": {},
   "outputs": [
    {
     "data": {
      "text/plain": [
       "Index(['Store', 'Country', 'State', 'City', 'Category', 'Clothing Type',\n",
       "       'Store Number', 'Postal Code', 'Store Type', 'Store Open Date',\n",
       "       'Selling Area Size (sq ft)', 'Store Manager', 'Manager ID',\n",
       "       'Store Address', 'Contact Information', 'Operating Hours',\n",
       "       'Staff Count', 'Parking Availability', 'Security Features', 'Order ID',\n",
       "       'Order Date', 'Month', 'Customer ID', 'Customer Name', 'Product ID',\n",
       "       'Price', 'Quantity', 'Sales Profit'],\n",
       "      dtype='object')"
      ]
     },
     "execution_count": 189,
     "metadata": {},
     "output_type": "execute_result"
    }
   ],
   "source": [
    "# Display the column names of the DataFrame\n",
    "data.columns"
   ]
  },
  {
   "cell_type": "code",
   "execution_count": 190,
   "id": "ef424a67-a243-457f-9ee1-91c5e4aca753",
   "metadata": {},
   "outputs": [
    {
     "data": {
      "text/plain": [
       "Store                        0\n",
       "Country                      0\n",
       "State                        0\n",
       "City                         0\n",
       "Category                     0\n",
       "Clothing Type                0\n",
       "Store Number                 0\n",
       "Postal Code                  0\n",
       "Store Type                   0\n",
       "Store Open Date              0\n",
       "Selling Area Size (sq ft)    0\n",
       "Store Manager                0\n",
       "Manager ID                   0\n",
       "Store Address                0\n",
       "Contact Information          0\n",
       "Operating Hours              0\n",
       "Staff Count                  0\n",
       "Parking Availability         0\n",
       "Security Features            0\n",
       "Order ID                     0\n",
       "Order Date                   0\n",
       "Month                        0\n",
       "Customer ID                  0\n",
       "Customer Name                0\n",
       "Product ID                   0\n",
       "Price                        0\n",
       "Quantity                     0\n",
       "Sales Profit                 0\n",
       "dtype: int64"
      ]
     },
     "execution_count": 190,
     "metadata": {},
     "output_type": "execute_result"
    }
   ],
   "source": [
    "# Calculating the number of null values in each column of the DataFrame\n",
    "data.isnull().sum()"
   ]
  },
  {
   "cell_type": "code",
   "execution_count": 191,
   "id": "985c4fdf-5cc9-4ffe-a96d-874b063d1fa3",
   "metadata": {},
   "outputs": [
    {
     "name": "stdout",
     "output_type": "stream",
     "text": [
      "<class 'pandas.core.frame.DataFrame'>\n",
      "RangeIndex: 14687 entries, 0 to 14686\n",
      "Data columns (total 28 columns):\n",
      " #   Column                     Non-Null Count  Dtype  \n",
      "---  ------                     --------------  -----  \n",
      " 0   Store                      14687 non-null  object \n",
      " 1   Country                    14687 non-null  object \n",
      " 2   State                      14687 non-null  object \n",
      " 3   City                       14687 non-null  object \n",
      " 4   Category                   14687 non-null  object \n",
      " 5   Clothing Type              14687 non-null  object \n",
      " 6   Store Number               14687 non-null  int64  \n",
      " 7   Postal Code                14687 non-null  int64  \n",
      " 8   Store Type                 14687 non-null  object \n",
      " 9   Store Open Date            14687 non-null  object \n",
      " 10  Selling Area Size (sq ft)  14687 non-null  int64  \n",
      " 11  Store Manager              14687 non-null  object \n",
      " 12  Manager ID                 14687 non-null  object \n",
      " 13  Store Address              14687 non-null  object \n",
      " 14  Contact Information        14687 non-null  object \n",
      " 15  Operating Hours            14687 non-null  object \n",
      " 16  Staff Count                14687 non-null  int64  \n",
      " 17  Parking Availability       14687 non-null  object \n",
      " 18  Security Features          14687 non-null  object \n",
      " 19  Order ID                   14687 non-null  int64  \n",
      " 20  Order Date                 14687 non-null  object \n",
      " 21  Month                      14687 non-null  object \n",
      " 22  Customer ID                14687 non-null  int64  \n",
      " 23  Customer Name              14687 non-null  object \n",
      " 24  Product ID                 14687 non-null  int64  \n",
      " 25  Price                      14687 non-null  int64  \n",
      " 26  Quantity                   14687 non-null  int64  \n",
      " 27  Sales Profit               14687 non-null  float64\n",
      "dtypes: float64(1), int64(9), object(18)\n",
      "memory usage: 3.1+ MB\n"
     ]
    }
   ],
   "source": [
    "# Summary of the DataFrame, including data types and non-null counts for each column\n",
    "data.info()"
   ]
  },
  {
   "cell_type": "markdown",
   "id": "211cf9fa-662d-4d5b-8839-34c470a0270e",
   "metadata": {},
   "source": [
    "# What is the total revenue generated by each store?"
   ]
  },
  {
   "cell_type": "code",
   "execution_count": 193,
   "id": "2985183b-c95f-4c9e-98bb-e0b88b616f19",
   "metadata": {},
   "outputs": [
    {
     "name": "stdout",
     "output_type": "stream",
     "text": [
      "(('Zudio', Decimal('116363269')),)\n"
     ]
    }
   ],
   "source": [
    "query = \"\"\"SELECT Store, SUM(Price * Quantity) AS Total_Revenue FROM zudio_sales_data GROUP BY Store;\"\"\"\n",
    "cursor.execute(query)\n",
    "data = cursor.fetchall()\n",
    "print(data)"
   ]
  },
  {
   "cell_type": "markdown",
   "id": "fa13b969-fb8c-4218-aeeb-ad9ee7f5bc61",
   "metadata": {},
   "source": [
    "# Which city's stores have the highest and lowest average sales profits??"
   ]
  },
  {
   "cell_type": "code",
   "execution_count": 195,
   "id": "c517972e-2ce2-4b87-9746-363af747fce9",
   "metadata": {},
   "outputs": [
    {
     "name": "stdout",
     "output_type": "stream",
     "text": [
      "(('Kolhapur', 3493.3240963855396), ('Solapur', 2879.0608695652177))\n"
     ]
    }
   ],
   "source": [
    "query = \"\"\"(SELECT City, AVG(`Sales Profit`) AS Avg_Profit FROM Zudio_sales_data GROUP BY City ORDER BY Avg_Profit DESC LIMIT 1)\n",
    "UNION ALL\n",
    "(SELECT City, AVG(`Sales Profit`) AS Avg_Profit FROM Zudio_sales_data GROUP BY City ORDER BY Avg_Profit ASC LIMIT 1);\"\"\"\n",
    "cursor.execute(query)\n",
    "data = cursor.fetchall()\n",
    "print(data)"
   ]
  },
  {
   "cell_type": "markdown",
   "id": "458c56ee-255b-40eb-baa0-e4722829b6f3",
   "metadata": {},
   "source": [
    "# What are the top 5 Clothing type contributing to overall revenue?"
   ]
  },
  {
   "cell_type": "code",
   "execution_count": 197,
   "id": "ac8cb5be-59a5-4fab-97e0-65afc546e705",
   "metadata": {},
   "outputs": [
    {
     "name": "stdout",
     "output_type": "stream",
     "text": [
      "(('Dresses', Decimal('11211112')), ('Pants', Decimal('10745494')), ('Jackets', Decimal('10730366')), ('Sweaters', Decimal('10715823')), ('Skirts', Decimal('10698544')))\n"
     ]
    }
   ],
   "source": [
    "query = \"\"\"SELECT `Clothing Type`, SUM(Price * Quantity) AS Revenue FROM zudio_sales_data GROUP BY `Clothing Type`\n",
    "ORDER BY Revenue DESC LIMIT 5;\"\"\"\n",
    "cursor.execute(query)\n",
    "data = cursor.fetchall()\n",
    "print(data)"
   ]
  },
  {
   "cell_type": "markdown",
   "id": "c439fcd7-79f2-4e41-9df4-6d8112d7a725",
   "metadata": {},
   "source": [
    "# Which months have the highest and lowest sales profits?"
   ]
  },
  {
   "cell_type": "code",
   "execution_count": 199,
   "id": "0c0ca41d-6f55-43e4-a5f3-8d40feddba45",
   "metadata": {},
   "outputs": [
    {
     "name": "stdout",
     "output_type": "stream",
     "text": [
      "(('October', 4415818.8), ('December', 413023.2))\n"
     ]
    }
   ],
   "source": [
    "query = \"\"\"(SELECT Month, SUM(`Sales Profit`) AS Total_Profit FROM zudio_sales_data GROUP BY Month\n",
    "ORDER BY Total_Profit DESC LIMIT 1)\n",
    "UNION ALL\n",
    "(SELECT Month, SUM(`Sales Profit`) AS Total_Profit FROM zudio_sales_data GROUP BY Month\n",
    "ORDER BY Total_Profit ASC LIMIT 1);\"\"\"\n",
    "cursor.execute(query)\n",
    "data = cursor.fetchall()\n",
    "print(data)"
   ]
  },
  {
   "cell_type": "markdown",
   "id": "5b61777a-788b-474d-bede-04c1edb815f2",
   "metadata": {},
   "source": [
    "# How many customers are unique for each store?"
   ]
  },
  {
   "cell_type": "code",
   "execution_count": 201,
   "id": "b0afea5d-b13f-4430-bb4d-ea5900063e50",
   "metadata": {},
   "outputs": [
    {
     "name": "stdout",
     "output_type": "stream",
     "text": [
      "(('Zudio', 7870),)\n"
     ]
    }
   ],
   "source": [
    "query = \"\"\"SELECT Store, COUNT(DISTINCT `Customer ID`) AS Unique_Customers FROM zudio_sales_data GROUP BY Store;\"\"\"\n",
    "cursor.execute(query)\n",
    "data = cursor.fetchall()\n",
    "print(data)"
   ]
  },
  {
   "cell_type": "markdown",
   "id": "8568bba1-1f26-4012-85b6-956f606944da",
   "metadata": {},
   "source": [
    "# What is the total sales profit for each State?"
   ]
  },
  {
   "cell_type": "code",
   "execution_count": 203,
   "id": "91da9638-c157-4b19-a270-749b7229c743",
   "metadata": {},
   "outputs": [
    {
     "name": "stdout",
     "output_type": "stream",
     "text": [
      "(('Karnataka', 5592215.599999999), ('Gujarat', 5670416.399999996), ('Uttar Pradesh', 5833371.200000006), ('West Bengal', 6031095.199999998), ('Maharashtra', 5777392.399999995), ('Tamil Nadu', 5725390.800000011), ('Rajasthan', 5949801.200000007), ('Delhi', 5965624.800000001))\n"
     ]
    }
   ],
   "source": [
    "query = \"\"\"SELECT State, SUM(`Sales Profit`) AS Total_Profit FROM zudio_sales_data GROUP BY State;\"\"\"\n",
    "cursor.execute(query)\n",
    "data = cursor.fetchall()\n",
    "print(data)"
   ]
  },
  {
   "cell_type": "markdown",
   "id": "863e26ba-3002-44ed-a0e5-78f1b1f44a0b",
   "metadata": {},
   "source": [
    "# Find the top 5 customers based on total sales profit."
   ]
  },
  {
   "cell_type": "code",
   "execution_count": 205,
   "id": "031b89ac-1167-4d3b-923e-dd52206a6a20",
   "metadata": {},
   "outputs": [
    {
     "name": "stdout",
     "output_type": "stream",
     "text": [
      "(('Jonathan Brown', 41980.8), ('Christopher Smith', 40674.40000000001), ('Michael Williams', 39048.0), ('Sarah Smith', 30322.399999999998), ('Jessica Jones', 30192.399999999998))\n"
     ]
    }
   ],
   "source": [
    "query = \"\"\"SELECT `Customer Name`, SUM(`Sales Profit`) AS Total_Profit FROM Zudio_sales_data GROUP BY `Customer Name`\n",
    "ORDER BY Total_Profit DESC LIMIT 5;\"\"\"\n",
    "cursor.execute(query)\n",
    "data = cursor.fetchall()\n",
    "print(data)"
   ]
  },
  {
   "cell_type": "markdown",
   "id": "37891c0d-33a0-428b-9e71-0d923884c765",
   "metadata": {},
   "source": [
    "# What is the trend of sales profits over time (monthly)?"
   ]
  },
  {
   "cell_type": "code",
   "execution_count": 207,
   "id": "c8e23132-27f9-4dd7-9a65-599cc2526446",
   "metadata": {},
   "outputs": [
    {
     "name": "stdout",
     "output_type": "stream",
     "text": [
      "(('January', 4254612.4), ('February', 4063439.1999999946), ('March', 4232094.4), ('April', 4243590.4), ('May', 4188934.8000000007), ('June', 3960287.2000000016), ('July', 4094102.0), ('August', 4319656.799999999), ('September', 4034578.0000000005), ('October', 4415818.8), ('November', 4325170.400000003), ('December', 413023.2))\n"
     ]
    }
   ],
   "source": [
    "query = \"\"\"SELECT Month, SUM(`Sales Profit`) AS Total_Profit FROM zudio_sales_data GROUP BY Month ORDER BY FIELD\n",
    "(Month, 'January', 'February', 'March', 'April', 'May', 'June','July', 'August', 'September', 'October', 'November', 'December');\"\"\"\n",
    "cursor.execute(query)\n",
    "data = cursor.fetchall()\n",
    "print(data)"
   ]
  },
  {
   "cell_type": "markdown",
   "id": "2f6f10d6-eafd-4d28-ae14-eee2702e3013",
   "metadata": {},
   "source": [
    "# How many products were sold by each Clothing Type?"
   ]
  },
  {
   "cell_type": "code",
   "execution_count": 209,
   "id": "1333a1c4-350a-4b68-a40a-9e45e4c3630f",
   "metadata": {},
   "outputs": [
    {
     "name": "stdout",
     "output_type": "stream",
     "text": [
      "(('Dresses', Decimal('6392')), ('Skirts', Decimal('6088')), ('Hoodies', Decimal('6100')), ('Jackets', Decimal('6104')), ('Tops', Decimal('6030')), ('Shoes', Decimal('5816')), ('Jeans', Decimal('5828')), ('Pants', Decimal('6028')), ('Sweaters', Decimal('5948')), ('T-shirts', Decimal('6184')), ('Shirts', Decimal('5917')))\n"
     ]
    }
   ],
   "source": [
    "query = \"\"\"SELECT `Clothing Type`, SUM(Quantity) AS Total_Products_Sold FROM zudio_sales_data GROUP BY `Clothing Type`;\"\"\"\n",
    "cursor.execute(query)\n",
    "data = cursor.fetchall()\n",
    "print(data)"
   ]
  },
  {
   "cell_type": "markdown",
   "id": "d5e491f3-e5be-4a7c-a3cb-cae2be58050f",
   "metadata": {},
   "source": [
    "# Which cities have the highest number of stores?"
   ]
  },
  {
   "cell_type": "code",
   "execution_count": 211,
   "id": "289d9e6b-dfc3-4ff1-a2dc-a091b896ae28",
   "metadata": {},
   "outputs": [
    {
     "name": "stdout",
     "output_type": "stream",
     "text": [
      "(('Kolkata', 395), ('Mysuru', 392), ('Jammu', 384), ('Bhopal', 381), ('Madurai', 379), ('Coimbatore', 379), ('Indore', 378), ('Rajkot', 375), ('Jalna', 375), ('Hyderabad', 375), ('New Delhi', 375), ('Pune', 372), ('Ahmedabad', 363), ('Chhattisgarh', 363), ('Visakhapatnam', 360), ('Chandigarh', 357), ('Noida', 355), ('Bengaluru', 355), ('Jaipur', 355), ('Lucknow', 351), ('Varanasi', 349), ('Kanpur', 349), ('Kochi', 349), ('Surat', 349), ('Solapur', 345), ('Agra', 341), ('Nashik', 337), ('Chennai', 337), ('Vadodara', 336), ('Ranchi', 336), ('Nagpur', 334), ('Kolhapur', 332), ('Patna', 330), ('Meerut', 330), ('Satara', 330), ('Goa', 329), ('Guwahati', 321), ('Faridabad', 317), ('Pondicherry', 307), ('Aurangabad', 306), ('Thane', 304), ('Mumbai', 300))\n"
     ]
    }
   ],
   "source": [
    "query = \"\"\"SELECT City, COUNT(*) AS Store_Count FROM Zudio_sales_data GROUP BY City ORDER BY Store_Count DESC;\"\"\"\n",
    "cursor.execute(query)\n",
    "data = cursor.fetchall()\n",
    "print(data)"
   ]
  },
  {
   "cell_type": "markdown",
   "id": "07b335e1-5449-473e-b168-ce1cf77726d5",
   "metadata": {},
   "source": [
    "# Which are the top 10 customers with highest order?"
   ]
  },
  {
   "cell_type": "code",
   "execution_count": 213,
   "id": "19ede7e3-108e-4e91-a543-57f091ee5e99",
   "metadata": {},
   "outputs": [
    {
     "name": "stdout",
     "output_type": "stream",
     "text": [
      "(('Christopher Smith', 9), ('Michael Smith', 8), ('Michael Anderson', 8), ('Daniel Jones', 8), ('Michael Williams', 8), ('Michael Brown', 7), ('William Smith', 7), ('Sarah Smith', 7), ('Robert Brown', 7), ('Michael Jones', 7))\n"
     ]
    }
   ],
   "source": [
    "query = \"\"\"SELECT `Customer Name`, COUNT(`Order ID`) AS Total_Orders FROM Zudio_sales_data GROUP BY `Customer Name`\n",
    "ORDER BY Total_Orders DESC LIMIT 10;\"\"\"\n",
    "cursor.execute(query)\n",
    "data = cursor.fetchall()\n",
    "print(data)"
   ]
  },
  {
   "cell_type": "markdown",
   "id": "74664164-371b-48ae-85c3-f097cf72116c",
   "metadata": {},
   "source": [
    "# Identify the top 3 states with the highest sales profits."
   ]
  },
  {
   "cell_type": "code",
   "execution_count": 215,
   "id": "e91277db-173a-46e6-907a-e5132d715374",
   "metadata": {},
   "outputs": [
    {
     "name": "stdout",
     "output_type": "stream",
     "text": [
      "(('West Bengal', 6031095.199999998), ('Delhi', 5965624.800000001), ('Rajasthan', 5949801.200000007))\n"
     ]
    }
   ],
   "source": [
    "query = \"\"\"SELECT State, SUM(`Sales Profit`) AS Total_Profit FROM Zudio_sales_data GROUP BY State\n",
    "ORDER BY Total_Profit DESC LIMIT 3;\"\"\"\n",
    "cursor.execute(query)\n",
    "data = cursor.fetchall()\n",
    "print(data)"
   ]
  },
  {
   "cell_type": "code",
   "execution_count": null,
   "id": "9b2d6bfd-e7ed-4f1f-aa40-d14b955c9bf0",
   "metadata": {},
   "outputs": [],
   "source": []
  }
 ],
 "metadata": {
  "kernelspec": {
   "display_name": "Python 3 (ipykernel)",
   "language": "python",
   "name": "python3"
  },
  "language_info": {
   "codemirror_mode": {
    "name": "ipython",
    "version": 3
   },
   "file_extension": ".py",
   "mimetype": "text/x-python",
   "name": "python",
   "nbconvert_exporter": "python",
   "pygments_lexer": "ipython3",
   "version": "3.12.7"
  }
 },
 "nbformat": 4,
 "nbformat_minor": 5
}
